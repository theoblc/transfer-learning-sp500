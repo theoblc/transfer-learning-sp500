{
 "cells": [
  {
   "cell_type": "code",
   "execution_count": 50,
   "metadata": {},
   "outputs": [],
   "source": [
    "import pandas as pd\n",
    "import numpy as np\n",
    "import scipy as sp\n",
    "import matplotlib.pyplot as plt\n",
    "from itertools import combinations"
   ]
  },
  {
   "cell_type": "code",
   "execution_count": 51,
   "metadata": {},
   "outputs": [],
   "source": [
    "def compute_corr(df1, df2, col='Close'):\n",
    "    \n",
    "    date_df1 = df1.iloc[0]['Date']\n",
    "    date_df2 = df2.iloc[0]['Date']\n",
    "    date_max = (lambda date1, date2: date1 if date1 > date2 else date2)(date_df1, date_df2)\n",
    "    print(\"Nouvelle date de départ : \", date_max)\n",
    "    \n",
    "    new_df1 = df1[df1['Date'] >= date_max].copy()\n",
    "    new_df2 = df2[df2['Date'] >= date_max].copy()\n",
    "    new_df1.dropna(inplace=True)\n",
    "    new_df2.dropna(inplace=True)\n",
    "    # Réinitialisez l'index après avoir supprimé les valeurs NaN\n",
    "    new_df1.reset_index(drop=True, inplace=True)\n",
    "    new_df2.reset_index(drop=True, inplace=True)\n",
    "    \n",
    "    print(\"Même taille après modif : \", len(new_df1)==len(new_df2))\n",
    "    \n",
    "    df = pd.concat([new_df1[col], new_df2[col]], axis=1)\n",
    "    \n",
    "    correlation = df.corr()\n",
    "    \n",
    "    return correlation.iloc[0, 1]"
   ]
  },
  {
   "cell_type": "code",
   "execution_count": 52,
   "metadata": {},
   "outputs": [],
   "source": [
    "def plot_corr_df(list_of_df):\n",
    "    combinations_list = list(combinations(list_of_df, 2))\n",
    "    \n",
    "    covariances = [compute_corr(tup[0][0], tup[1][0]) for tup in combinations_list]\n",
    "    print(covariances)\n",
    "    etiquettes = [tup[0][1]+\"-\"+tup[1][1] for tup in combinations_list]\n",
    "\n",
    "    # Créer le diagramme\n",
    "    plt.bar(etiquettes, covariances, color='blue')\n",
    "\n",
    "    # Ajouter des étiquettes et un titre\n",
    "    plt.ylabel('Covariance')\n",
    "    plt.title('Diagramme des covariances')\n",
    "\n",
    "    # Afficher le diagramme\n",
    "    plt.show()"
   ]
  },
  {
   "cell_type": "code",
   "execution_count": 54,
   "metadata": {},
   "outputs": [
    {
     "name": "stdout",
     "output_type": "stream",
     "text": [
      "Nouvelle date de départ :  2015-10-19\n",
      "Même taille après modif :  True\n",
      "Nouvelle date de départ :  1980-12-12\n",
      "Même taille après modif :  True\n",
      "Nouvelle date de départ :  1962-01-02\n",
      "Même taille après modif :  True\n",
      "Nouvelle date de départ :  2015-10-19\n",
      "Même taille après modif :  True\n",
      "Nouvelle date de départ :  2015-10-19\n",
      "Même taille après modif :  True\n",
      "Nouvelle date de départ :  1980-12-12\n",
      "Même taille après modif :  True\n",
      "[0.6464884316552453, 0.6097637672208309, 0.8924790179913246, 0.45988780325026485, 0.5973591444218187, 0.8648371792119861]\n"
     ]
    },
    {
     "data": {
      "image/png": "[encoded data removed]",
      "text/plain": [
       "<Figure size 640x480 with 1 Axes>"
      ]
     },
     "metadata": {},
     "output_type": "display_data"
    }
   ],
   "source": [
    "df_ibm = pd.read_csv('./datasets/IBM.csv')\n",
    "df_aapl = pd.read_csv('./datasets/AAPL.csv')\n",
    "df_hpe = pd.read_csv('./datasets/HPE.csv')\n",
    "df_jnj = pd.read_csv('./datasets/JNJ.csv')\n",
    "\n",
    "plot_corr_df([(df_ibm,\"IBM\"), (df_hpe,\"HPE\"), (df_aapl,\"AAPL\"), (df_jnj,\"JNJ\")])"
   ]
  },
  {
   "cell_type": "code",
   "execution_count": null,
   "metadata": {},
   "outputs": [],
   "source": []
  }
 ],
 "metadata": {
  "kernelspec": {
   "display_name": "learningenv",
   "language": "python",
   "name": "python3"
  },
  "language_info": {
   "codemirror_mode": {
    "name": "ipython",
    "version": 3
   },
   "file_extension": ".py",
   "mimetype": "text/x-python",
   "name": "python",
   "nbconvert_exporter": "python",
   "pygments_lexer": "ipython3",
   "version": "3.11.5"
  }
 },
 "nbformat": 4,
 "nbformat_minor": 2
}
